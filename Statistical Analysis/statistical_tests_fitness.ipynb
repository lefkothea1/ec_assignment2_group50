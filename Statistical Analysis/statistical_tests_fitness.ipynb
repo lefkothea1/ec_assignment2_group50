{
 "cells": [
  {
   "cell_type": "code",
   "execution_count": 2,
   "metadata": {},
   "outputs": [],
   "source": [
    "## importing important packages\n",
    "\n",
    "import pandas as pd\n",
    "import numpy as np\n",
    "from scipy import stats \n"
   ]
  },
  {
   "cell_type": "code",
   "execution_count": 3,
   "metadata": {},
   "outputs": [],
   "source": [
    "# Reading the results\n",
    "\n",
    "# reading the result files for the classic CMA-ES for both group A (2 enemies) and group B (3 enemies)\n",
    "\n",
    "# CMA-ES Classic results\n",
    "c2 = pd.read_csv('../assignment2_tests/data/experiment_classic_group2_results.csv', index_col = 0)\n",
    "c3 = pd.read_csv('../assignment2_tests/data/experiment_classic_group3_results.csv', index_col = 0)\n",
    "\n",
    "# MO-CMA-ES  results\n",
    "mo2 = pd.read_csv('../assignment2_tests/data/exp_adv_g2_results_CLEAN.csv', index_col = 0)\n",
    "mo3 = pd.read_csv('../assignment2_tests/data/exp_adv_g3_results_CLEAN.csv', index_col = 0)\n",
    "\n"
   ]
  },
  {
   "cell_type": "code",
   "execution_count": 7,
   "metadata": {},
   "outputs": [],
   "source": [
    "# working with the data \n",
    "cA = c2.copy()\n",
    "cB = c3.copy()\n",
    "moA = mo2.copy()\n",
    "moB = mo3.copy()\n",
    "\n",
    "# create corresponding column names\n",
    "cA.rename(columns = {'min':'min_fit','max':'max_fit', 'avg':'avg_fit', 'std':'std_fit' }, inplace = True)\n",
    "cB.rename(columns = {'min':'min_fit','max':'max_fit', 'avg':'avg_fit', 'std':'std_fit' }, inplace = True)\n",
    "\n",
    "# convert to the right datatypes\n",
    "fixcols = ['min_fit', 'max_fit', 'avg_fit', 'std_fit']\n",
    "for df in [cA, cB]:\n",
    "    for col in fixcols:\n",
    "        df[col] = df[col].str.strip('[]').astype(float)"
   ]
  },
  {
   "cell_type": "code",
   "execution_count": 8,
   "metadata": {},
   "outputs": [
    {
     "name": "stdout",
     "output_type": "stream",
     "text": [
      "Classic group A vs B: Test statistic of two sampled t-test for {'avg_fit'} is 18.252303142610472 with a p-value of 0.0 and thus significant difference.\n",
      "DF: 598\n",
      "Classic group A vs B: Test statistic of two sampled t-test for {'std_fit'} is 15.002829672592382 with a p-value of 0.0 and thus significant difference.\n",
      "DF: 598\n"
     ]
    }
   ],
   "source": [
    "# Calculating degrees of freedom:\n",
    "\n",
    "\n",
    "# TESTING: \n",
    "    # 1. Between group A and B:\n",
    "        # a. Mean fitness CMA-ES Classic: group A vs group B\n",
    "        # b. Standard deviation  CMA-ES Classic: group A vs group B\n",
    "        # c. Mean fitness MO-CMA-ES: group A vs group B\n",
    "        # d. Standard deviation MO-CMA-ES: group A vs group B\n",
    "\n",
    "# 1a and 1b. CMA-ES Classic between group A and B\n",
    "\n",
    "testlist = ['avg_fit', 'std_fit']\n",
    "for col in testlist:\n",
    "    data_A = cA[col]\n",
    "    data_B= cB[col]\n",
    "    ttest = stats.ttest_ind(data_A,data_B)\n",
    "    # calculating degrees of freedom for the two-sample ttest (equal variances)\n",
    "    df = len(data_A) + len(data_B) - 2\n",
    "\n",
    "    if ttest.pvalue < .005:\n",
    "        print(f'Classic group A vs B: Test statistic of two sampled t-test for', {col}, 'is' , ttest.statistic , \n",
    "        'with a p-value of' ,ttest.pvalue.round(10) , 'and thus significant difference.')\n",
    "    else: print(f'Classic group A vs B: Test statistic of two sampled t-test for', {col}, 'is' , ttest.statistic , \n",
    "        'with a p-value of' ,ttest.pvalue.round(10) , 'and thus NO significant difference.')\n",
    "    \n",
    "    print('DF: ' + str(df))\n",
    "\n",
    "\n",
    "\n"
   ]
  },
  {
   "cell_type": "code",
   "execution_count": 10,
   "metadata": {},
   "outputs": [
    {
     "name": "stdout",
     "output_type": "stream",
     "text": [
      "5.6128944401071744e-99\n",
      "MO-CMA-ES group A vs B: Test statistic of two sampled t-test for {'avg_fit'} is 25.7531197516788 with a p-value of 0.0 and thus significant difference.\n",
      "DF: 598\n",
      "8.64676010781379e-18\n",
      "MO-CMA-ES group A vs B: Test statistic of two sampled t-test for {'std_fit'} is 8.866550589081495 with a p-value of 0.0 and thus significant difference.\n",
      "DF: 598\n"
     ]
    }
   ],
   "source": [
    "# 1c and 1d. MO-CMA-ES between group A and B\n",
    "\n",
    "testlist = ['avg_fit', 'std_fit']\n",
    "for col in testlist:\n",
    "    data_A = moA[col]\n",
    "    data_B= moB[col]\n",
    "    ttest = stats.ttest_ind(data_A,data_B)\n",
    "    \n",
    "    # calculating degrees of freedom for the two-sample ttest (equal variances)\n",
    "    df = len(data_A) + len(data_B) - 2\n",
    "    if ttest.pvalue < .005:\n",
    "        print(ttest.pvalue)\n",
    "        print(f'MO-CMA-ES group A vs B: Test statistic of two sampled t-test for', {col}, 'is' , ttest.statistic , \n",
    "        'with a p-value of' ,ttest.pvalue.round(10) , 'and thus significant difference.')\n",
    "    else: print(f'MO-CMA-ES group A vs B: Test statistic of two sampled t-test for', {col}, 'is' , ttest.statistic , \n",
    "        'with a p-value of' ,ttest.pvalue.round(10) , 'and thus NO significant difference.')\n",
    "\n",
    "    print('DF: ' + str(df))"
   ]
  },
  {
   "cell_type": "code",
   "execution_count": 11,
   "metadata": {},
   "outputs": [
    {
     "name": "stdout",
     "output_type": "stream",
     "text": [
      "Group A CMA-ES vs MO-CMA-ES: Test statistic of two sampled t-test for {'avg_fit'} is -4.14914940324093 with a p-value of 3.82131e-05 and thus significant difference.\n",
      "DF: 598\n",
      "Group A CMA-ES vs MO-CMA-ES: Test statistic of two sampled t-test for {'std_fit'} is 6.06835105133587 with a p-value of 2.3e-09 and thus significant difference.\n",
      "DF: 598\n"
     ]
    }
   ],
   "source": [
    " # 2. Between CMA-ES Classic and MO-CMA-ES:\n",
    "        # a. Mean fitness group A: CMA-ES Classic vs MO-CMA-ES\n",
    "        # b. Standard deviation group A: CMA-ES Classic vs MO-CMA-ES\n",
    "        # c. Mean fitness group B: CMA-ES Classic vs MO-CMA-ES\n",
    "        # d. Standard deviation group B: CMA-ES Classic vs MO-CMA-ES\n",
    "\n",
    "# 2a and 2b\n",
    "testlist = ['avg_fit', 'std_fit']\n",
    "\n",
    "for col in testlist:\n",
    "        data_c = cA[col]\n",
    "        data_mo = moA[col]\n",
    "        ttest = stats.ttest_ind(data_c,data_mo)\n",
    "        \n",
    "        # calculating degrees of freedom for the two-sample ttest (equal variances)\n",
    "        df = len(data_c) + len(data_mo) - 2\n",
    "        if ttest.pvalue < .005:\n",
    "                print(f'Group A CMA-ES vs MO-CMA-ES: Test statistic of two sampled t-test for', {col}, 'is' , ttest.statistic , \n",
    "                'with a p-value of' ,ttest.pvalue.round(10) , 'and thus significant difference.')\n",
    "        else: \n",
    "                print(f'Group A CMA-ES vs MO-CMA-ES: Test statistic of two sampled t-test for', {col}, 'is' , ttest.statistic , \n",
    "                'with a p-value of' ,ttest.pvalue.round(10) , 'and thus NO significant difference.')\n",
    "        print('DF: ' + str(df))"
   ]
  },
  {
   "cell_type": "code",
   "execution_count": 13,
   "metadata": {},
   "outputs": [
    {
     "name": "stdout",
     "output_type": "stream",
     "text": [
      "Group A CMA-ES vs MO-CMA-ES: Test statistic of two sampled t-test for {'avg_fit'} is -5.094643377589708 with a p-value of 4.691e-07 and thus significant difference.\n",
      "DF: 598\n",
      "Group A CMA-ES vs MO-CMA-ES: Test statistic of two sampled t-test for {'std_fit'} is 4.312622794315919 with a p-value of 1.88699e-05 and thus significant difference.\n",
      "DF: 598\n"
     ]
    }
   ],
   "source": [
    "# 2c and 2d\n",
    "testlist = ['avg_fit', 'std_fit']\n",
    "\n",
    "for col in testlist:\n",
    "        data_c = cB[col]\n",
    "        data_mo = moB[col]\n",
    "        ttest = stats.ttest_ind(data_c,data_mo)\n",
    "        \n",
    "        # calculating degrees of freedom for the two-sample ttest (equal variances)\n",
    "        df = len(data_c) + len(data_mo) - 2\n",
    "        if ttest.pvalue < .005:\n",
    "                print(f'Group A CMA-ES vs MO-CMA-ES: Test statistic of two sampled t-test for', {col}, 'is' , ttest.statistic , \n",
    "                'with a p-value of' ,ttest.pvalue.round(10) , 'and thus significant difference.')\n",
    "        else: \n",
    "                print(f'Group A CMA-ES vs MO-CMA-ES: Test statistic of two sampled t-test for', {col}, 'is' , ttest.statistic , \n",
    "                'with a p-value of' ,ttest.pvalue.round(10) , 'and thus NO significant difference.')\n",
    "        print('DF: ' + str(df))"
   ]
  },
  {
   "cell_type": "code",
   "execution_count": null,
   "metadata": {},
   "outputs": [],
   "source": []
  }
 ],
 "metadata": {
  "kernelspec": {
   "display_name": "Python 3.10.4 ('EC')",
   "language": "python",
   "name": "python3"
  },
  "language_info": {
   "codemirror_mode": {
    "name": "ipython",
    "version": 3
   },
   "file_extension": ".py",
   "mimetype": "text/x-python",
   "name": "python",
   "nbconvert_exporter": "python",
   "pygments_lexer": "ipython3",
   "version": "3.10.4"
  },
  "orig_nbformat": 4,
  "vscode": {
   "interpreter": {
    "hash": "f3469b8b3ac1b615d32d36c7cea3e3cecc118492fa3387ef97f01fc613dd4eab"
   }
  }
 },
 "nbformat": 4,
 "nbformat_minor": 2
}
