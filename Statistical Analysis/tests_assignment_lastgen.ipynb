{
 "cells": [
  {
   "cell_type": "code",
   "execution_count": 57,
   "metadata": {},
   "outputs": [],
   "source": [
    "## importing important packages\n",
    "\n",
    "import pandas as pd\n",
    "import numpy as np\n",
    "from scipy import stats \n"
   ]
  },
  {
   "cell_type": "code",
   "execution_count": 58,
   "metadata": {},
   "outputs": [],
   "source": [
    "# Reading the results\n",
    "\n",
    "# reading the result files for the classic CMA-ES for both group A (2 enemies) and group B (3 enemies)\n",
    "\n",
    "# CMA-ES Classic results\n",
    "c2 = pd.read_csv('../assignment2_tests/data/experiment_classic_group2_results.csv', index_col = 0)\n",
    "c3 = pd.read_csv('../assignment2_tests/data/experiment_classic_group3_results.csv', index_col = 0)\n",
    "\n",
    "# MO-CMA-ES  results\n",
    "mo2 = pd.read_csv('../assignment2_tests/data/exp_adv_g2_results_CLEAN.csv', index_col = 0)\n",
    "mo3 = pd.read_csv('../assignment2_tests/data/exp_adv_g3_results_CLEAN.csv', index_col = 0)\n",
    "\n"
   ]
  },
  {
   "cell_type": "code",
   "execution_count": 59,
   "metadata": {},
   "outputs": [
    {
     "name": "stderr",
     "output_type": "stream",
     "text": [
      "/var/folders/r8/s2ng4lrj47d6vgtnflbkrhl80000gn/T/ipykernel_89173/276165780.py:14: SettingWithCopyWarning: \n",
      "A value is trying to be set on a copy of a slice from a DataFrame\n",
      "\n",
      "See the caveats in the documentation: https://pandas.pydata.org/pandas-docs/stable/user_guide/indexing.html#returning-a-view-versus-a-copy\n",
      "  cA.rename(columns = {'min':'min_fit','max':'max_fit', 'avg':'avg_fit', 'std':'std_fit' }, inplace = True)\n",
      "/var/folders/r8/s2ng4lrj47d6vgtnflbkrhl80000gn/T/ipykernel_89173/276165780.py:15: SettingWithCopyWarning: \n",
      "A value is trying to be set on a copy of a slice from a DataFrame\n",
      "\n",
      "See the caveats in the documentation: https://pandas.pydata.org/pandas-docs/stable/user_guide/indexing.html#returning-a-view-versus-a-copy\n",
      "  cB.rename(columns = {'min':'min_fit','max':'max_fit', 'avg':'avg_fit', 'std':'std_fit' }, inplace = True)\n",
      "/var/folders/r8/s2ng4lrj47d6vgtnflbkrhl80000gn/T/ipykernel_89173/276165780.py:21: SettingWithCopyWarning: \n",
      "A value is trying to be set on a copy of a slice from a DataFrame.\n",
      "Try using .loc[row_indexer,col_indexer] = value instead\n",
      "\n",
      "See the caveats in the documentation: https://pandas.pydata.org/pandas-docs/stable/user_guide/indexing.html#returning-a-view-versus-a-copy\n",
      "  df[col] = df[col].str.strip('[]').astype(float)\n"
     ]
    }
   ],
   "source": [
    "# working with the data \n",
    "cA1 = c2.copy()\n",
    "cB1 = c3.copy()\n",
    "moA1 = mo2.copy()\n",
    "moB1 = mo3.copy()\n",
    "\n",
    "# we only test differences between values in the last generation\n",
    "cA = cA1.loc[cA1['gen'] == 29]\n",
    "cB = cB1.loc[cB1['gen'] == 29]\n",
    "moA = moA1.loc[moA1['gen'] == 29]\n",
    "moB = moB1.loc[moB1['gen'] == 29]\n",
    "\n",
    "# create corresponding column names\n",
    "cA.rename(columns = {'min':'min_fit','max':'max_fit', 'avg':'avg_fit', 'std':'std_fit' }, inplace = True)\n",
    "cB.rename(columns = {'min':'min_fit','max':'max_fit', 'avg':'avg_fit', 'std':'std_fit' }, inplace = True)\n",
    "\n",
    "# convert to the right datatypes\n",
    "fixcols = ['min_fit', 'max_fit', 'avg_fit', 'std_fit']\n",
    "for df in [cA, cB]:\n",
    "    for col in fixcols:\n",
    "        df[col] = df[col].str.strip('[]').astype(float)\n"
   ]
  },
  {
   "cell_type": "code",
   "execution_count": 60,
   "metadata": {},
   "outputs": [
    {
     "name": "stdout",
     "output_type": "stream",
     "text": [
      "Classic group A vs B: Test statistic of two sampled t-test for {'avg_fit'} is 11.806355950325543 with a p-value of 7e-10 and thus significant difference.\n",
      "DF: 18\n",
      "Classic group A vs B: Test statistic of two sampled t-test for {'std_fit'} is 3.258610737953404 with a p-value of 0.0043618616 and thus significant difference.\n",
      "DF: 18\n"
     ]
    }
   ],
   "source": [
    "# TESTING: \n",
    "    # 1. Between group A and B:\n",
    "        # a. Mean fitness CMA-ES Classic: group A vs group B\n",
    "        # b. Standard deviation  CMA-ES Classic: group A vs group B\n",
    "        # c. Mean fitness MO-CMA-ES: group A vs group B\n",
    "        # d. Standard deviation MO-CMA-ES: group A vs group B\n",
    "\n",
    "# 1a and 1b. CMA-ES Classic between group A and B\n",
    "\n",
    "testlist = ['avg_fit', 'std_fit']\n",
    "for col in testlist:\n",
    "    data_A = cA[col]\n",
    "    data_B= cB[col]\n",
    "    ttest = stats.ttest_ind(data_A,data_B)\n",
    "    # calculating degrees of freedom for the two-sample ttest\n",
    "    df = len(data_A) + len(data_B) - 2\n",
    "\n",
    "    if ttest.pvalue < .005:\n",
    "        print(f'Classic group A vs B: Test statistic of two sampled t-test for', {col}, 'is' , ttest.statistic , \n",
    "        'with a p-value of' ,ttest.pvalue.round(10) , 'and thus significant difference.')\n",
    "    else: print(f'Classic group A vs B: Test statistic of two sampled t-test for', {col}, 'is' , ttest.statistic , \n",
    "        'with a p-value of' ,ttest.pvalue.round(10) , 'and thus NO significant difference.')\n",
    "    \n",
    "    print('DF: ' + str(df))\n",
    "\n",
    "\n",
    "\n"
   ]
  },
  {
   "cell_type": "code",
   "execution_count": 61,
   "metadata": {},
   "outputs": [
    {
     "name": "stdout",
     "output_type": "stream",
     "text": [
      "MO-CMA-ES group A vs B: Test statistic of two sampled t-test for {'avg_fit'} is 4.1639867754055 with a p-value of 0.0005830602 and thus significant difference.\n",
      "DF: 18\n",
      "MO-CMA-ES group A vs B: Test statistic of two sampled t-test for {'std_fit'} is 1.9162047127735844 with a p-value of 0.0713585186 and thus NO significant difference.\n",
      "DF: 18\n"
     ]
    }
   ],
   "source": [
    "# 1c and 1d. MO-CMA-ES between group A and B\n",
    "\n",
    "testlist = ['avg_fit', 'std_fit']\n",
    "for col in testlist:\n",
    "    data_A = moA[col]\n",
    "    data_B= moB[col]\n",
    "    ttest = stats.ttest_ind(data_A,data_B)\n",
    "    \n",
    "    # calculating degrees of freedom for the two-sample ttest\n",
    "    df = len(data_A) + len(data_B) - 2\n",
    "    if ttest.pvalue < .005:\n",
    "        print(f'MO-CMA-ES group A vs B: Test statistic of two sampled t-test for', {col}, 'is' , ttest.statistic , \n",
    "        'with a p-value of' ,ttest.pvalue.round(10) , 'and thus significant difference.')\n",
    "    else: print(f'MO-CMA-ES group A vs B: Test statistic of two sampled t-test for', {col}, 'is' , ttest.statistic , \n",
    "        'with a p-value of' ,ttest.pvalue.round(10) , 'and thus NO significant difference.')\n",
    "\n",
    "    print('DF: ' + str(df))"
   ]
  },
  {
   "cell_type": "code",
   "execution_count": 62,
   "metadata": {},
   "outputs": [
    {
     "name": "stdout",
     "output_type": "stream",
     "text": [
      "Group A CMA-ES vs MO-CMA-ES: Test statistic of two sampled t-test for {'avg_fit'} is -1.0433705755449094 with a p-value of 0.3105878407 and thus NO significant difference.\n",
      "DF: 18\n",
      "Group A CMA-ES vs MO-CMA-ES: Test statistic of two sampled t-test for {'std_fit'} is 0.8917015346283323 with a p-value of 0.3843182857 and thus NO significant difference.\n",
      "DF: 18\n"
     ]
    }
   ],
   "source": [
    " # 2. Between CMA-ES Classic and MO-CMA-ES:\n",
    "        # a. Mean fitness group A: CMA-ES Classic vs MO-CMA-ES\n",
    "        # b. Standard deviation group A: CMA-ES Classic vs MO-CMA-ES\n",
    "        # c. Mean fitness group B: CMA-ES Classic vs MO-CMA-ES\n",
    "        # d. Standard deviation group B: CMA-ES Classic vs MO-CMA-ES\n",
    "\n",
    "# 2a and 2b\n",
    "testlist = ['avg_fit', 'std_fit']\n",
    "\n",
    "for col in testlist:\n",
    "        data_c = cA[col]\n",
    "        data_mo = moA[col]\n",
    "        ttest = stats.ttest_ind(data_c,data_mo)\n",
    "        \n",
    "        # calculating degrees of freedom for the two-sample ttest (equal variances)\n",
    "        df = len(data_c) + len(data_mo) - 2\n",
    "        if ttest.pvalue < .005:\n",
    "                print(f'Group A CMA-ES vs MO-CMA-ES: Test statistic of two sampled t-test for', {col}, 'is' , ttest.statistic , \n",
    "                'with a p-value of' ,ttest.pvalue.round(10) , 'and thus significant difference.')\n",
    "        else: \n",
    "                print(f'Group A CMA-ES vs MO-CMA-ES: Test statistic of two sampled t-test for', {col}, 'is' , ttest.statistic , \n",
    "                'with a p-value of' ,ttest.pvalue.round(10) , 'and thus NO significant difference.')\n",
    "        print('DF: ' + str(df))"
   ]
  },
  {
   "cell_type": "code",
   "execution_count": 63,
   "metadata": {},
   "outputs": [
    {
     "name": "stdout",
     "output_type": "stream",
     "text": [
      "Group B CMA-ES vs MO-CMA-ES: Test statistic of two sampled t-test for {'avg_fit'} is -3.3637988236548226 with a p-value of 0.0034577715 and thus significant difference.\n",
      "DF: 18\n",
      "Group B CMA-ES vs MO-CMA-ES: Test statistic of two sampled t-test for {'std_fit'} is 2.0244920288454207 with a p-value of 0.0580171173 and thus NO significant difference.\n",
      "DF: 18\n"
     ]
    }
   ],
   "source": [
    "# 2c and 2d\n",
    "testlist = ['avg_fit', 'std_fit']\n",
    "\n",
    "for col in testlist:\n",
    "        data_c = cB[col]\n",
    "        data_mo = moB[col]\n",
    "        ttest = stats.ttest_ind(data_c,data_mo)\n",
    "        \n",
    "        # calculating degrees of freedom for the two-sample ttest (equal variances)\n",
    "        df = len(data_c) + len(data_mo) - 2\n",
    "        if ttest.pvalue < .005:\n",
    "                print(f'Group B CMA-ES vs MO-CMA-ES: Test statistic of two sampled t-test for', {col}, 'is' , ttest.statistic , \n",
    "                'with a p-value of' ,ttest.pvalue.round(10) , 'and thus significant difference.')\n",
    "        else: \n",
    "                print(f'Group B CMA-ES vs MO-CMA-ES: Test statistic of two sampled t-test for', {col}, 'is' , ttest.statistic , \n",
    "                'with a p-value of' ,ttest.pvalue.round(10) , 'and thus NO significant difference.')\n",
    "        print('DF: ' + str(df))"
   ]
  }
 ],
 "metadata": {
  "kernelspec": {
   "display_name": "Python 3.10.4 ('EC')",
   "language": "python",
   "name": "python3"
  },
  "language_info": {
   "codemirror_mode": {
    "name": "ipython",
    "version": 3
   },
   "file_extension": ".py",
   "mimetype": "text/x-python",
   "name": "python",
   "nbconvert_exporter": "python",
   "pygments_lexer": "ipython3",
   "version": "3.10.4"
  },
  "orig_nbformat": 4,
  "vscode": {
   "interpreter": {
    "hash": "f3469b8b3ac1b615d32d36c7cea3e3cecc118492fa3387ef97f01fc613dd4eab"
   }
  }
 },
 "nbformat": 4,
 "nbformat_minor": 2
}
